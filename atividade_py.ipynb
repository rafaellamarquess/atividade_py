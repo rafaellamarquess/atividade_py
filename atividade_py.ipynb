{
  "nbformat": 4,
  "nbformat_minor": 0,
  "metadata": {
    "colab": {
      "provenance": []
    },
    "kernelspec": {
      "name": "python3",
      "display_name": "Python 3"
    },
    "language_info": {
      "name": "python"
    }
  },
  "cells": [
    {
      "cell_type": "code",
      "source": [
        "valor1 = input(\"Digite um número inteiro: \")\n",
        "valor2 = input(\"Digite outro número inteiro: \")\n",
        "\n",
        "print(valor1 == valor2)\n",
        "print(valor1 > valor2)\n",
        "print(valor1 < valor2)\n",
        "print(valor1 >= valor2)\n",
        "print(valor1 <= valor2)"
      ],
      "metadata": {
        "id": "sBjbqiqVLClF"
      },
      "execution_count": null,
      "outputs": []
    },
    {
      "cell_type": "code",
      "source": [
        "numero = 10\n",
        "print(numero > 0 and numero < 10)\n"
      ],
      "metadata": {
        "colab": {
          "base_uri": "https://localhost:8080/"
        },
        "id": "YxvqU_M_LHbK",
        "outputId": "eb6e9ab9-1518-47a3-eb29-eef56fb5a523"
      },
      "execution_count": 4,
      "outputs": [
        {
          "output_type": "stream",
          "name": "stdout",
          "text": [
            "False\n"
          ]
        }
      ]
    },
    {
      "cell_type": "code",
      "source": [
        "numero = 10\n",
        "print(numero > 0 or numero < 10)"
      ],
      "metadata": {
        "colab": {
          "base_uri": "https://localhost:8080/"
        },
        "id": "80QKZdCwPd6M",
        "outputId": "6af3f8bc-2258-47f9-8f56-1dfee6ea60ea"
      },
      "execution_count": 5,
      "outputs": [
        {
          "output_type": "stream",
          "name": "stdout",
          "text": [
            "True\n"
          ]
        }
      ]
    },
    {
      "cell_type": "code",
      "source": [
        "valor = int(input(\"Digite um número inteiro: \"))\n",
        "\n",
        "if (valor % 2 == 0):\n",
        "  print(\"Par\")\n",
        "else:\n",
        "  print(\"Impar\")"
      ],
      "metadata": {
        "colab": {
          "base_uri": "https://localhost:8080/"
        },
        "id": "NxqS1ApgQQ4_",
        "outputId": "816d25c9-bf0d-49ba-f185-1523d797e86e"
      },
      "execution_count": 18,
      "outputs": [
        {
          "output_type": "stream",
          "name": "stdout",
          "text": [
            "Digite um número inteiro: 20\n",
            "Par\n"
          ]
        }
      ]
    },
    {
      "cell_type": "code",
      "source": [
        "cupom = input(\"Digite o cupom: \")\n",
        "\n",
        "if(cupom == \"aula1\" or cupom == \"aula2\"):\n",
        "  print(\"Você ganhou 10% de desconto\")\n",
        "else:\n",
        "  print(\"Esse cupom está inválido\")"
      ],
      "metadata": {
        "colab": {
          "base_uri": "https://localhost:8080/"
        },
        "id": "ioC__8T4WE4p",
        "outputId": "aa363552-ea1e-4da8-c853-d5e1251da595"
      },
      "execution_count": 22,
      "outputs": [
        {
          "output_type": "stream",
          "name": "stdout",
          "text": [
            "Digite o cupom: aula3\n",
            "Esse cupom está inválido\n"
          ]
        }
      ]
    }
  ]
}