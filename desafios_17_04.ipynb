{
  "nbformat": 4,
  "nbformat_minor": 0,
  "metadata": {
    "colab": {
      "provenance": []
    },
    "kernelspec": {
      "name": "python3",
      "display_name": "Python 3"
    },
    "language_info": {
      "name": "python"
    }
  },
  "cells": [
    {
      "cell_type": "code",
      "execution_count": null,
      "metadata": {
        "id": "iaLnFaldJ5Vw",
        "colab": {
          "base_uri": "https://localhost:8080/"
        },
        "outputId": "5a2e9362-f685-4006-93ba-95737de9907b"
      },
      "outputs": [
        {
          "output_type": "stream",
          "name": "stdout",
          "text": [
            "Digite o ano do carro:1500\n",
            "Digite o preco do carro:1000.00\n",
            "O valor da sua taxa será de: 10.0\n"
          ]
        }
      ],
      "source": [
        "anoCarro = int(input(\"Digite o ano do carro:\"))\n",
        "precoCarro = float(input(\"Digite o preco do carro:\"))\n",
        "\n",
        "taxaDetran1 = 1/100 * precoCarro\n",
        "taxaDetran2 = 1.5/100 * precoCarro\n",
        "\n",
        "if anoCarro < 1990:\n",
        "  print(\"O valor da sua taxa será de:\", taxaDetran1)\n",
        "else:\n",
        "    print(\"O valor da sua taxa será de:\", taxaDetran2)"
      ]
    },
    {
      "cell_type": "code",
      "source": [
        "cargoFuncionario = input(\"Digite qual o seu cargo:\")\n",
        "salarioFuncionario = float(input(\"Digite o valor do seu salário:\"))\n",
        "\n",
        "\n",
        "cargo1= \"Gerente\"\n",
        "cargo2= \"Engenheiro\"\n",
        "cargo3= \"Tecnico\"\n",
        "\n",
        "if (cargoFuncionario == cargo1):\n",
        "  aumento= 10/100 * salarioFuncionario\n",
        "  print(\"Seu antigo salário era:\", salarioFuncionario, \"E seu novo salário é\", aumento + salarioFuncionario)\n",
        "elif  cargoFuncionario == cargo2:\n",
        "  aumento= 20/100 * salarioFuncionario\n",
        "  print(\"Seu antigo salário era:\", salarioFuncionario, \"E seu novo salário é\", aumento + salarioFuncionario)\n",
        "elif cargoFuncionario == cargo3:\n",
        "  aumento= 30/100 * salarioFuncionario\n",
        "  print(\"Seu antigo salário era:\", salarioFuncionario, \"E seu novo salário é\", aumento + salarioFuncionario)\n",
        "else:\n",
        "  aumento= 40/100 * salarioFuncionario\n",
        "  print(\"Seu antigo salário era:\", salarioFuncionario, \"E seu novo salário é\", aumento + salarioFuncionario)"
      ],
      "metadata": {
        "id": "L2v8oKAaSHG7",
        "colab": {
          "base_uri": "https://localhost:8080/"
        },
        "outputId": "6352fa89-154b-4e59-fdee-bdd153895f36"
      },
      "execution_count": null,
      "outputs": [
        {
          "output_type": "stream",
          "name": "stdout",
          "text": [
            "Digite qual o seu cargo:Gerente\n",
            "Digite o valor do seu salário:1000\n",
            "Seu antigo salário era: 1000.0 E seu novo salário é 1100.0\n"
          ]
        }
      ]
    }
  ]
}