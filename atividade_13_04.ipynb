{
  "nbformat": 4,
  "nbformat_minor": 0,
  "metadata": {
    "colab": {
      "provenance": []
    },
    "kernelspec": {
      "name": "python3",
      "display_name": "Python 3"
    },
    "language_info": {
      "name": "python"
    }
  },
  "cells": [
    {
      "cell_type": "code",
      "execution_count": null,
      "metadata": {
        "colab": {
          "base_uri": "https://localhost:8080/"
        },
        "id": "XKxRqXAVd9ja",
        "outputId": "ea1d4337-2338-459e-d3cf-f1c9878d9f01"
      },
      "outputs": [
        {
          "output_type": "stream",
          "name": "stdout",
          "text": [
            "Siga as intruções a seguir:\n",
            "Digite o primeiro número inteiro: 10\n",
            "Digite o segundo número inteiro: 5\n",
            "Digite um número real: 5.5\n",
            "Resultado da letra a): 50.0\n",
            "Resultado da letra b): soma do triplo do primeiro com o terceiro: 35.5 e o resultado do terceiro elevado ao cubo: 166.375\n"
          ]
        }
      ],
      "source": [
        "# PROGRAMA 1 - Faça um Programa que peça 2 números inteiros e um número real.\n",
        "num1 = int(input(\"Digite um número inteiro: \"))\n",
        "num2 = int(input(\"Digite um número inteiro: \"))\n",
        "num_real = float(input(\"Digite um número real: \"))\n",
        "\n",
        "# a) O produto do dobro do primeiro com metade do segundo\n",
        "resultado_a = (2 * num1) * (num2 / 2)\n",
        "print(\"Resultado da letra a):\", resultado_a)\n",
        "\n",
        "# b) A soma do triplo do primeiro com o terceiro, e o terceiro elevado ao cubo\n",
        "resultado_b1 = (3 * num1) + num_real\n",
        "resultado_b2 = num_real ** 3\n",
        "print(\"Resultado da letra b1):\", resultado_b1)\n",
        "print(\"Resultado da letra b2):\", resultado_b2)\n"
      ]
    },
    {
      "cell_type": "code",
      "source": [
        "# PROGRAMA 2 - Faça um Programa que peça dois números e imprima o maior deles.\n",
        "numero1 = float(input(\"primeiro número: \"))\n",
        "numero2 = float(input(\"segundo número: \"))\n",
        "\n",
        "if numero1 > numero2:\n",
        "    print(\"O maior número é:\", numero1)\n",
        "else:\n",
        "    print(\"O maior número é:\", numero2)\n"
      ],
      "metadata": {
        "colab": {
          "base_uri": "https://localhost:8080/"
        },
        "id": "xsWMCIJnf7uc",
        "outputId": "b53e0233-ec1b-4f21-b511-9381308d0faf"
      },
      "execution_count": null,
      "outputs": [
        {
          "output_type": "stream",
          "name": "stdout",
          "text": [
            "Digite o primeiro número: 14\n",
            "Digite o segundo número: 13\n",
            "O maior número é: 14.0\n"
          ]
        }
      ]
    },
    {
      "cell_type": "code",
      "source": [],
      "metadata": {
        "id": "09KML2d7r3-f"
      },
      "execution_count": null,
      "outputs": []
    },
    {
      "cell_type": "code",
      "source": [
        "# PROGRAMA 3 - Faça um Programa que peça um valor e mostre na tela se o valor é positivo ou negativo.\n",
        "\n",
        "valor = float(input(\"Digite um valor: \"))\n",
        "\n",
        "if valor >= 0:\n",
        "    print(\"O valor é positivo.\")\n",
        "else:\n",
        "    print(\"O valor é negativo.\")\n"
      ],
      "metadata": {
        "colab": {
          "base_uri": "https://localhost:8080/"
        },
        "id": "LHjtUrFugxr8",
        "outputId": "7ec88515-5b2e-4038-efff-f7302e4c3cad"
      },
      "execution_count": null,
      "outputs": [
        {
          "output_type": "stream",
          "name": "stdout",
          "text": [
            "Digite um valor: -14\n",
            "O valor é negativo.\n"
          ]
        }
      ]
    },
    {
      "cell_type": "code",
      "source": [
        "# PROGRAMA 4 -  Faça um programa para a leitura de duas notas parciais de um aluno.\n",
        "#O programa deve calcular a média alcançada por aluno e apresentar o resultado \"Aprovado\" ou \"Reprovado\".\n",
        "#Considere que a escola adota média 7.00.\n",
        "nota1 = float(input(\"Digite a primeira nota: \"))\n",
        "nota2 = float(input(\"Digite a segunda nota: \"))\n",
        "\n",
        "media = (nota1 + nota2) / 2\n",
        "if media >= 7:\n",
        "    print(\"Aprovado\")\n",
        "else:\n",
        "    print(\"Reprovado\")\n",
        "print(\"Média do aluno:\", media)\n"
      ],
      "metadata": {
        "colab": {
          "base_uri": "https://localhost:8080/"
        },
        "id": "mY5GWSmig8si",
        "outputId": "9e5bae61-2a88-4b87-aa27-e2664c844fbf"
      },
      "execution_count": null,
      "outputs": [
        {
          "output_type": "stream",
          "name": "stdout",
          "text": [
            "Digite a primeira nota: 4\n",
            "Digite a segunda nota: 5\n",
            "Reprovado\n",
            "Média do aluno: 4.5\n"
          ]
        }
      ]
    },
    {
      "cell_type": "code",
      "source": [
        "# PROGRAMA 5 - Faça um Programa que leia três números e mostre o maior deles.\n",
        "numero1 = float(input(\"Digite o primeiro número: \"))\n",
        "numero2 = float(input(\"Digite o segundo número: \"))\n",
        "numero3 = float(input(\"Digite o terceiro número: \"))\n",
        "\n",
        "maior = max(numero1, numero2, numero3)\n",
        "\n",
        "print(\"O maior número é:\", maior)\n"
      ],
      "metadata": {
        "colab": {
          "base_uri": "https://localhost:8080/"
        },
        "id": "qZVEtdEchTtd",
        "outputId": "dcf2b839-635a-419c-c352-37b5e27da8df"
      },
      "execution_count": null,
      "outputs": [
        {
          "output_type": "stream",
          "name": "stdout",
          "text": [
            "Digite o primeiro número: 5\n",
            "Digite o segundo número: 6\n",
            "Digite o terceiro número: 5\n",
            "O maior número é: 6.0\n"
          ]
        }
      ]
    }
  ]
}