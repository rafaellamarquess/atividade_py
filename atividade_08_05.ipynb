{
  "nbformat": 4,
  "nbformat_minor": 0,
  "metadata": {
    "colab": {
      "provenance": []
    },
    "kernelspec": {
      "name": "python3",
      "display_name": "Python 3"
    },
    "language_info": {
      "name": "python"
    }
  },
  "cells": [
    {
      "cell_type": "code",
      "execution_count": null,
      "metadata": {
        "id": "ZWoi_rxRhjtl",
        "colab": {
          "base_uri": "https://localhost:8080/"
        },
        "outputId": "e315092b-8e67-49ba-9f9f-be4056a31abb"
      },
      "outputs": [
        {
          "output_type": "stream",
          "name": "stdout",
          "text": [
            "Digite o nome do produto: camera\n",
            "Digite o valor do produto 250\n",
            "O produto é: camera\n",
            "O valor é: 250.0\n"
          ]
        }
      ],
      "source": [
        "for produto in range (0,4):\n",
        "    produto = str(input(\"Digite o nome do produto: \"))\n",
        "    valor = float(input(\"Digite o valor do produto \"))\n",
        "\n",
        "    print(\"O produto é:\", produto)\n",
        "    print(\"O valor é:\",valor)"
      ]
    },
    {
      "cell_type": "code",
      "source": [
        "for elemento in [1,2,3,4,5,6]:\n",
        "    print('Estamos no elemento ', elemento)"
      ],
      "metadata": {
        "id": "bTWNRzTGh7U1",
        "outputId": "97338c3d-f75c-43e0-8e0e-c8ffc4d0cacc",
        "colab": {
          "base_uri": "https://localhost:8080/"
        }
      },
      "execution_count": null,
      "outputs": [
        {
          "output_type": "stream",
          "name": "stdout",
          "text": [
            "Estamos no elemento  1\n",
            "Estamos no elemento  2\n",
            "Estamos no elemento  3\n",
            "Estamos no elemento  4\n",
            "Estamos no elemento  5\n",
            "Estamos no elemento  6\n"
          ]
        }
      ]
    },
    {
      "cell_type": "code",
      "source": [
        "for elemento in \"rafa\":\n",
        "    print(\"Estamos na letra:\", elemento)"
      ],
      "metadata": {
        "id": "GGgOP1vyh8tS"
      },
      "execution_count": null,
      "outputs": []
    },
    {
      "cell_type": "code",
      "source": [
        "for elemento in range (len(\"rafaella\")):\n",
        "    print(\"estamos na letra:\" ,elemento)"
      ],
      "metadata": {
        "id": "Ntz_FMJCh_jK",
        "colab": {
          "base_uri": "https://localhost:8080/"
        },
        "outputId": "366e9d35-4406-4980-c3bf-b6b30372be3f"
      },
      "execution_count": null,
      "outputs": [
        {
          "output_type": "stream",
          "name": "stdout",
          "text": [
            "estamos no elemento 0\n",
            "estamos no elemento 1\n",
            "estamos no elemento 2\n",
            "estamos no elemento 3\n",
            "estamos no elemento 4\n",
            "estamos no elemento 5\n",
            "estamos no elemento 6\n",
            "estamos no elemento 7\n"
          ]
        }
      ]
    },
    {
      "cell_type": "code",
      "source": [
        "produto = 0\n",
        "while produto < 4:\n",
        "\n",
        "    produto = str(input('Digite o nome do produto: '))\n",
        "    vvalor = float(input('Digite o valor do produto: '))\n",
        "\n",
        "    produto += 1\n",
        "\n",
        "    print('O produto é: ',produto)\n",
        "    print('O valor é: ',valor)"
      ],
      "metadata": {
        "id": "1dEM0JeaiDm7"
      },
      "execution_count": null,
      "outputs": []
    },
    {
      "cell_type": "code",
      "source": [
        "elemento = 0\n",
        "\n",
        "while elemento <= len([1,2,3,4,5,6]):\n",
        "    print(\"Estamos no elemento\",elemento)\n",
        "\n",
        "    elemento +=1"
      ],
      "metadata": {
        "id": "sXtOgIB0iFuT",
        "colab": {
          "base_uri": "https://localhost:8080/"
        },
        "outputId": "cde18d6c-c128-48a3-8e43-27050f3aeb1c"
      },
      "execution_count": 26,
      "outputs": [
        {
          "output_type": "stream",
          "name": "stdout",
          "text": [
            "Estamos no elemento 0\n",
            "Estamos no elemento 1\n",
            "Estamos no elemento 2\n",
            "Estamos no elemento 3\n",
            "Estamos no elemento 4\n",
            "Estamos no elemento 5\n",
            "Estamos no elemento 6\n"
          ]
        }
      ]
    },
    {
      "cell_type": "code",
      "source": [
        "s = \"rafaella\"\n",
        "indice = 0\n",
        "\n",
        "while indice in range (len(s)):\n",
        "    print('Estamos no elemento', s[indice])\n",
        "    indice +=1"
      ],
      "metadata": {
        "id": "NQuCAn0niHLz",
        "colab": {
          "base_uri": "https://localhost:8080/"
        },
        "outputId": "597d97ba-b968-4557-d7c3-baeb027e6df7"
      },
      "execution_count": 27,
      "outputs": [
        {
          "output_type": "stream",
          "name": "stdout",
          "text": [
            "Estamos no elemento r\n",
            "Estamos no elemento a\n",
            "Estamos no elemento f\n",
            "Estamos no elemento a\n",
            "Estamos no elemento e\n",
            "Estamos no elemento l\n",
            "Estamos no elemento l\n",
            "Estamos no elemento a\n"
          ]
        }
      ]
    },
    {
      "cell_type": "code",
      "source": [
        "palavra = 'rafaella'\n",
        "for rafaella, marques in enumerate(palavra):\n",
        "    print(rafaella, marques )"
      ],
      "metadata": {
        "id": "IkIOgq3CiI9E",
        "colab": {
          "base_uri": "https://localhost:8080/"
        },
        "outputId": "04bc9594-4e95-41bd-bee8-b15af21743d3"
      },
      "execution_count": 28,
      "outputs": [
        {
          "output_type": "stream",
          "name": "stdout",
          "text": [
            "0 r\n",
            "1 a\n",
            "2 f\n",
            "3 a\n",
            "4 e\n",
            "5 l\n",
            "6 l\n",
            "7 a\n"
          ]
        }
      ]
    },
    {
      "cell_type": "code",
      "source": [
        "lista = [\"Jogar\",'Comer','Dançar']\n",
        "palavra = 'teste'\n",
        "\n",
        "objeto1 = enumerate (lista)\n",
        "objeto2 = enumerate (palavra)\n",
        "\n",
        "\n",
        "print(\"Tipo: \",type(objeto1))\n",
        "print(list(enumerate(lista)))"
      ],
      "metadata": {
        "id": "YOTbQdHSiKd8",
        "colab": {
          "base_uri": "https://localhost:8080/"
        },
        "outputId": "a127b191-e632-44ff-8b01-011d46e4557f"
      },
      "execution_count": 35,
      "outputs": [
        {
          "output_type": "stream",
          "name": "stdout",
          "text": [
            "Tipo:  <class 'enumerate'>\n",
            "[(0, 'Jogar'), (1, 'Comer'), (2, 'Dançar')]\n"
          ]
        }
      ]
    },
    {
      "cell_type": "code",
      "source": [
        "print (list(enumerate(palavra,2)))"
      ],
      "metadata": {
        "id": "Twdp8P0LiMbs"
      },
      "execution_count": null,
      "outputs": []
    },
    {
      "cell_type": "code",
      "source": [
        "s = \"teste\"\n",
        "\n",
        "for caracteres in s:\n",
        "    print(s)"
      ],
      "metadata": {
        "id": "TtkG6YXkiNki",
        "colab": {
          "base_uri": "https://localhost:8080/"
        },
        "outputId": "5f2c7974-d8a9-4da5-9b1d-debf0d126b7a"
      },
      "execution_count": 31,
      "outputs": [
        {
          "output_type": "stream",
          "name": "stdout",
          "text": [
            "teste\n",
            "teste\n",
            "teste\n",
            "teste\n",
            "teste\n"
          ]
        }
      ]
    },
    {
      "cell_type": "code",
      "source": [
        "s = \"teste\"\n",
        "\n",
        "for caracteres in s [3:8]:\n",
        "    print(s)"
      ],
      "metadata": {
        "id": "lLA-R8zPiPdE",
        "colab": {
          "base_uri": "https://localhost:8080/"
        },
        "outputId": "a2381fd0-02f8-4862-83f8-04edda52fac3"
      },
      "execution_count": 32,
      "outputs": [
        {
          "output_type": "stream",
          "name": "stdout",
          "text": [
            "teste\n",
            "teste\n"
          ]
        }
      ]
    },
    {
      "cell_type": "code",
      "source": [
        "pares = 0\n",
        "impares = 0\n",
        "\n",
        "for numero in range(10):\n",
        "    numero = int(input(\"Digite um número inteiro: \"))\n",
        "    if numero % 2 == 0:\n",
        "        pares += 1\n",
        "    else:\n",
        "        impares += 1\n",
        "\n",
        "print(\"Quantidade de números pares:\", pares )\n",
        "print(\"Quantidade de números ímpares:\", impares)"
      ],
      "metadata": {
        "id": "6pes_nVliRe8",
        "colab": {
          "base_uri": "https://localhost:8080/"
        },
        "outputId": "55a3193d-1d89-4808-9199-3544673046e3"
      },
      "execution_count": 33,
      "outputs": [
        {
          "output_type": "stream",
          "name": "stdout",
          "text": [
            "Digite um número inteiro: 1\n",
            "Digite um número inteiro: 2\n",
            "Digite um número inteiro: 3\n",
            "Digite um número inteiro: 1\n",
            "Digite um número inteiro: 2\n",
            "Digite um número inteiro: 3\n",
            "Digite um número inteiro: 1\n",
            "Digite um número inteiro: 3\n",
            "Digite um número inteiro: 3\n",
            "Digite um número inteiro: 2\n",
            "Quantidade de números pares: 3\n",
            "Quantidade de números ímpares: 7\n"
          ]
        }
      ]
    }
  ]
}